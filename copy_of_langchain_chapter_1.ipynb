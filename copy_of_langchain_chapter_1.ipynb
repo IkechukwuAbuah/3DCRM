{
  "nbformat": 4,
  "nbformat_minor": 0,
  "metadata": {
    "colab": {
      "provenance": [],
      "authorship_tag": "ABX9TyNfhFf1xOCCD6SU4fWGbt8L",
      "include_colab_link": true
    },
    "kernelspec": {
      "name": "python3",
      "display_name": "Python 3"
    },
    "language_info": {
      "name": "python"
    }
  },
  "cells": [
    {
      "cell_type": "markdown",
      "metadata": {
        "id": "view-in-github",
        "colab_type": "text"
      },
      "source": [
        "<a href=\"https://colab.research.google.com/github/IkechukwuAbuah/3DCRM/blob/main/copy_of_langchain_chapter_1.ipynb\" target=\"_parent\"><img src=\"https://colab.research.google.com/assets/colab-badge.svg\" alt=\"Open In Colab\"/></a>"
      ]
    },
    {
      "cell_type": "code",
      "execution_count": null,
      "metadata": {
        "id": "OosTuPYZR2Ud",
        "colab": {
          "base_uri": "https://localhost:8080/"
        },
        "outputId": "b84f24da-1444-49f8-b3bf-d458466eb685"
      },
      "outputs": [
        {
          "output_type": "stream",
          "name": "stdout",
          "text": [
            "\u001b[?25l     \u001b[90m━━━━━━━━━━━━━━━━━━━━━━━━━━━━━━━━━━━━━━━━\u001b[0m \u001b[32m0.0/61.0 kB\u001b[0m \u001b[31m?\u001b[0m eta \u001b[36m-:--:--\u001b[0m\r\u001b[2K     \u001b[91m━━━━━━━━━━━━━━━━━━━━━━━━━━━━━━━━━\u001b[0m\u001b[91m╸\u001b[0m\u001b[90m━━━━━━\u001b[0m \u001b[32m51.2/61.0 kB\u001b[0m \u001b[31m16.1 MB/s\u001b[0m eta \u001b[36m0:00:01\u001b[0m\r\u001b[2K     \u001b[90m━━━━━━━━━━━━━━━━━━━━━━━━━━━━━━━━━━━━━━━━\u001b[0m \u001b[32m61.0/61.0 kB\u001b[0m \u001b[31m1.1 MB/s\u001b[0m eta \u001b[36m0:00:00\u001b[0m\n",
            "\u001b[?25h\u001b[33mWARNING: langchain 0.3.17 does not provide the extra 'google-vertexai'\u001b[0m\u001b[33m\n",
            "\u001b[2K   \u001b[90m━━━━━━━━━━━━━━━━━━━━━━━━━━━━━━━━━━━━━━━━\u001b[0m \u001b[32m412.7/412.7 kB\u001b[0m \u001b[31m19.9 MB/s\u001b[0m eta \u001b[36m0:00:00\u001b[0m\n",
            "\u001b[2K   \u001b[90m━━━━━━━━━━━━━━━━━━━━━━━━━━━━━━━━━━━━━━━━\u001b[0m \u001b[32m54.5/54.5 kB\u001b[0m \u001b[31m3.9 MB/s\u001b[0m eta \u001b[36m0:00:00\u001b[0m\n",
            "\u001b[2K   \u001b[90m━━━━━━━━━━━━━━━━━━━━━━━━━━━━━━━━━━━━━━━━\u001b[0m \u001b[32m2.5/2.5 MB\u001b[0m \u001b[31m33.6 MB/s\u001b[0m eta \u001b[36m0:00:00\u001b[0m\n",
            "\u001b[2K   \u001b[90m━━━━━━━━━━━━━━━━━━━━━━━━━━━━━━━━━━━━━━━━\u001b[0m \u001b[32m243.4/243.4 kB\u001b[0m \u001b[31m13.6 MB/s\u001b[0m eta \u001b[36m0:00:00\u001b[0m\n",
            "\u001b[2K   \u001b[90m━━━━━━━━━━━━━━━━━━━━━━━━━━━━━━━━━━━━━━━━\u001b[0m \u001b[32m1.0/1.0 MB\u001b[0m \u001b[31m31.4 MB/s\u001b[0m eta \u001b[36m0:00:00\u001b[0m\n",
            "\u001b[2K   \u001b[90m━━━━━━━━━━━━━━━━━━━━━━━━━━━━━━━━━━━━━━━━\u001b[0m \u001b[32m18.3/18.3 MB\u001b[0m \u001b[31m45.3 MB/s\u001b[0m eta \u001b[36m0:00:00\u001b[0m\n",
            "\u001b[2K   \u001b[90m━━━━━━━━━━━━━━━━━━━━━━━━━━━━━━━━━━━━━━━━\u001b[0m \u001b[32m1.2/1.2 MB\u001b[0m \u001b[31m30.1 MB/s\u001b[0m eta \u001b[36m0:00:00\u001b[0m\n",
            "\u001b[2K   \u001b[90m━━━━━━━━━━━━━━━━━━━━━━━━━━━━━━━━━━━━━━━━\u001b[0m \u001b[32m50.9/50.9 kB\u001b[0m \u001b[31m3.3 MB/s\u001b[0m eta \u001b[36m0:00:00\u001b[0m\n",
            "\u001b[?25h"
          ]
        }
      ],
      "source": [
        "!pip install -qU \\\n",
        "  langchain-core==0.3.33 \\\n",
        "  langchain-openai==0.3.3 \\\n",
        "  langchain-community==0.3.16 \\\n",
        "  langchain-anthropic \\\n",
        "  \"langchain[google-vertexai]\""
      ]
    },
    {
      "cell_type": "code",
      "source": [
        "import os\n",
        "from getpass import getpass\n",
        "\n",
        "# Set up Anthropic API key\n",
        "os.environ[\"ANTHROPIC_API_KEY\"] = os.getenv(\"ANTHROPIC_API_KEY\") or getpass(\n",
        "    \"Enter Anthropic API Key: \"\n",
        ")\n",
        "\n",
        "# Specify which Claude model to use\n",
        "anthropic_model = \"claude-3-haiku-20240307\"  # You can also use \"claude-3-opus\" or other models"
      ],
      "metadata": {
        "id": "2frgjco3SwfM"
      },
      "execution_count": null,
      "outputs": []
    },
    {
      "cell_type": "code",
      "source": [
        "from langchain_anthropic import ChatAnthropic\n",
        "\n",
        "# Initialize the Claude model\n",
        "news_llm = ChatAnthropic(\n",
        "    model=anthropic_model,\n",
        "    temperature=0.7  # 0.0 for consistent outputs, higher for creativity\n",
        ")\n",
        "\n",
        "creative_llm = ChatAnthropic(\n",
        "    model_name=anthropic_model,\n",
        "    temperature=0.8  # Higher temperature for creative outputs\n",
        ")"
      ],
      "metadata": {
        "id": "-dNTYeiUTQUX"
      },
      "execution_count": null,
      "outputs": []
    },
    {
      "cell_type": "markdown",
      "source": [
        "We will be taking an email draft and using LangChain to generate various useful items around this article. We'll be creating:\n",
        "\n",
        "An article title\n",
        "An article description\n",
        "Editor advice where we will insert an additional paragraph in the article\n",
        "A thumbnail / hero image for our article.\n",
        "Here we input our article to start with. Currently this is using an article from the Aurelio AI learning page."
      ],
      "metadata": {
        "id": "efAb_4TaUEli"
      }
    },
    {
      "cell_type": "code",
      "source": [
        "email = \"\"\"\n",
        "\\\n",
        "Evening Team,\n",
        "First, Happy International Women’s Day to all the amazing women at EFL Africa who drive our mission forward every day. It’s been about 6 months since my initial note on our Export opportunity and preparedness (see email in thread). With our Strategy for 2025–2027 heavily hinging on Exports, this follow-up email seeks to:\n",
        "Reinforce why we’re betting big on exports.\n",
        "Remind us that we’re in a competitive market and need to act like it.\n",
        "Highlight our performance for January & February 2025.\n",
        "Cover the progress so far and the road ahead.\n",
        "Before I proceed, I'd like to make a special shoutout to @Oluwademilade Olufade for the great work he's done with @Jamiu Buhari  & @Norbert Ekemini on export data. I've attached Demi’s most recent stuffing report for your convenience; I highly recommend a close look.\n",
        "Quick Performance Snapshot\n",
        "In the first two months of 2025, we stuffed and processed over 20,000 tons of exports, representing an estimated value of $18 million. This data merges @Oluwademilade Olufade'svolume figures with @Opemipo Dada's brilliant suggestion to multiply tonnage by commodity market price. While this calculation isn’t perfect, the big takeaway is that we’re seeing robust commodity flow through our terminal.\n",
        "\n",
        "Below is a breakdown for those interested:\n",
        "COMMODITY\n",
        "TONNAGE\n",
        "Avg Price (USD/MT)\n",
        "Est. Value $\n",
        "CASHEW NUTS\n",
        "249.6\n",
        "$1,065\n",
        "$265,824.00\n",
        "CASSIA TORA SEEDS\n",
        "960\n",
        "$400\n",
        "$384,000.00\n",
        "FLUORITE ORE\n",
        "574.5\n",
        "$430\n",
        "$247,035.00\n",
        "ILMENITE IRON ORE\n",
        "767\n",
        "$1,090\n",
        "$836,030.00\n",
        "IRON ORE\n",
        "2587.25\n",
        "$109\n",
        "$282,010.25\n",
        "LEAD AND ZINC\n",
        "40\n",
        "$2,255\n",
        "$90,200.00\n",
        "LITHIUM ORE\n",
        "100\n",
        "$2,800\n",
        "$280,000.00\n",
        "MICA ORE\n",
        "180\n",
        "$350\n",
        "$63,000.00\n",
        "SESAME SEEDS\n",
        "13747.05\n",
        "$950\n",
        "$13,059,697.50\n",
        "SHEA NUTS\n",
        "154.35\n",
        "$800\n",
        "$123,480.00\n",
        "SILICA ORE\n",
        "27.5\n",
        "$57\n",
        "$1,567.50\n",
        "TITANIUM\n",
        "65\n",
        "$6,456\n",
        "$419,655.60\n",
        "ZINC ORE\n",
        "455.2\n",
        "$2,882\n",
        "$1,311,886.40\n",
        "ZIRCON SAND\n",
        "439.05\n",
        "$2,000\n",
        "$878,100\n",
        "Grand Total\n",
        "20346.5\n",
        "$18,242,486.25\n",
        "\n",
        "High Level:\n",
        "Sesame Seeds alone account for $13 million—the standout revenue driver so far.\n",
        "Iron Ore is the second-highest tonnage but lower in total value compared to high-value ores like Zinc and Titanium.\n",
        "Titanium tops the price charts at ~$6,456 per ton.\n",
        "Silica Ore remains the least in both tonnage and value.\n",
        "Overall, we’ve recorded $18M in export value in just 2 months, which is strong. But if we shift our lens to export container volume (TEUs), we’re seeing a 17% lower volume compared to this time last year.\n",
        "Month\n",
        "2024 TEUs\n",
        "2025 TEUs\n",
        "% Change\n",
        "Jan\n",
        "1757\n",
        "1501\n",
        "-14.6%\n",
        "Feb\n",
        "779\n",
        "858\n",
        "10.1%\n",
        "Total\n",
        "2536\n",
        "2086\n",
        "-17.7%\n",
        "\n",
        "That’s a 17.7% drop in export TEUs YOY—a metric we absolutely must reverse.\n",
        "Strategic Context: Why Exports?\n",
        "\n",
        "Building on Our Expanded Footprint\n",
        "Over the last year, we extended our reach by bringing our Savaric Yard online as another Export Processing Terminal (EPT). This addition complements our original facility in Ikorodu, effectively doubling our capacity and positioning us closer to key shippers in that axis. The fact that we’re still down 17% in TEUs YOY, signals both (a) an enormous untapped upside and (b) the need for more aggressive strategies to capture that upside. Here's why:\n",
        "Nigeria’s Export Potential: Oil vs. Non-Oil\n",
        "Nigeria’s historic shift from agricultural exports to oil dominance has been well-documented, yet non-oil exports remain a critical (and underexploited) growth lever. Below is a simplified summary (in NGN equivalents and USD ranges) illustrating how oil vs. non-oil exports have evolved since the 1960s. The data is approximate, reflecting various sources with minor discrepancies:\n",
        "Year\n",
        "Oil Exports (USD Range)\n",
        "Non-Oil Exports (USD Range)\n",
        "Oil%\n",
        "Non-Oil%\n",
        "Total Exports (USD Range)\n",
        "1960\n",
        "<$0.01B\n",
        ">$0.38B\n",
        "3%\n",
        "97%\n",
        "$0.39\n",
        "\n",
        "1996\n",
        "~$9.0–9.6B\n",
        "~$0.3–0.4B\n",
        "95–96%\n",
        "4–5%\n",
        "~$9.5–10.0B\n",
        "2010\n",
        "~$70–72B\n",
        "~$2–3B\n",
        "95–97%\n",
        "3–5%\n",
        "~$73–75B\n",
        "2023\n",
        "~$42–43B\n",
        "~$4.2–4.8B\n",
        "88–91%\n",
        "9–12%\n",
        "~$47–48B\n",
        "2024 (Jan–Sep)\n",
        "~$21–22B\n",
        "~$2.5–2.7B\n",
        "88–89%\n",
        "11–12%\n",
        "~$24–25B\n",
        "While oil still holds the lion’s share, non-oil exports are inching upward. Our presence in the export market for minerals, seeds, and agricultural products—like we see in the 20,000+ tons we’ve processed—positions us perfectly to ride that growth.\n",
        "Nigeria Exports 1960-2025 - Macrotrends\n",
        "Exports of goods and services represent the value of all goods and other market services provided to the rest of the world. They include the value of merchandise, freight, insurance, transport, travel, royalties, license fees, and other services, such as communication, construction, financial, information, business, personal, and government services. They exclude compensation of employees and ...\n",
        "www.macrotrends.net\n",
        "\n",
        "Competitive Landscape\n",
        "DP World’s Strategic Moves\n",
        "Here, I'd like to reference an article Mr. Yemi shared in the Management group regarding DP world's plans for our market.\n",
        "i.e. March 2025 saw renewed discussions between DP World and Nigeria’s Marine & Blue Economy Minister—covering potential investments in port infrastructure, industrial parks, and concessions. This is clearly an EPT play, and it has the African Continental Free Trade Agreement (AfCFTA) written all over it. As a leading port operator, DP World is validating the export potential we’re also betting on. This, to me, means competition will intensify.  Are we ready?\n",
        "\n",
        "Implications:\n",
        "Increased competition: The market will feel pricing pressure and a battle for volumes if DP World (or other global players) commits to large-scale EPT projects.\n",
        "Opportunity to differentiate: The same wave of investment highlights Africa’s budding potential in non-oil exports—an advantage for an already local, established brand like EFL.\n",
        "Over the next month, I'll share another research project on the  AfCFTA opportunity and why I believe we should take it seriously.\n",
        "\n",
        "Our Response\n",
        "For EFL Africa, our strategy is clear: double down on the specialized services we’re already known for—like the last-mile processing of diverse ores, seeds, and nuts—and scale them effectively across both terminals (Ikorodu + Savaric). We also need to accelerate our technology enhancements, data accuracy (HS codes, pricing, yield data), and brand push, so that we’re top-of-mind for exporters.\n",
        "Why the YoY Decline and How We Turn It Around\n",
        "Despite $18M in total export value, our TEUs are still behind 2024’s pace. Key reasons include:\n",
        "...We aren’t sure...\n",
        "We have a lot of work to do with regards to better understanding the trends that we observe at the terminal, including rises or drops in key metrics like Export TEU volume.\n",
        "\n",
        "Fixes & challenges\n",
        "Better Data = Better Insights, better pricing & better targeting: Upgrade data capture (HS codes, accurate weights, weekly revenue tracking and more commodity details). I'll work with ops, export and finance on this.\n",
        "Push for Value-Added Services: I'm curious what tailored solutions would interest our export partners most—packaging? labelling? —especially for high-value commodities like Titanium, Lithium, and processed seeds. Now that we have an idea of the value of each shipment, what can we do to improve the experience for our customers, and how can we encourage them to do more business with us?\n",
        "No one person has all the answers, but our combined expertise, strengths and focus will help us go a long way.\n",
        "\n",
        "\n",
        "In Conclusion\n",
        "\n",
        "Exports remain the centrepiece of our growth story, especially given the intensifying focus on Nigeria’s non-oil revenue streams. Our new Savaric facility plus our Ikorodu base position us well to drive higher volumes and higher-value exports. Still, we must urgently address the TEU drop— I believe our best chance lies in high quality data capture, specialized customer offerings, and synergy across partners and terminals.\n",
        "With $18M of export value already moved this year but a 17.7% TEU decline, it’s clear we’ve got momentum and an imperative to do better. Let’s harness that momentum, refine our approach, and reclaim our pace—or even surpass it. We are in the final month of Q1, next few days are pivotal. Our decisions and focus now will shape whether we meet, or exceed, the ambitious export goals laid out in our 2025–2027 strategy.\n",
        "Thank you for reading this long note. Let's play to win.\n",
        "\n",
        "\"\"\""
      ],
      "metadata": {
        "id": "xCX568L4UFuV"
      },
      "execution_count": null,
      "outputs": []
    },
    {
      "cell_type": "code",
      "source": [
        "from langchain.prompts import SystemMessagePromptTemplate, HumanMessagePromptTemplate\n",
        "\n",
        "# Defining the system prompt (how the AI should act)\n",
        "system_prompt = SystemMessagePromptTemplate.from_template(\n",
        "    \"You are an AI assistant that helps generate email overviews.\"\n",
        ")\n",
        "\n",
        "# the user prompt is provided by the user, in this case however the only dynamic\n",
        "# input is the email\n",
        "user_prompt = HumanMessagePromptTemplate.from_template(\n",
        "    \"\"\"You are tasked with creating an overview of the email.\n",
        "The email is here for you to examine {email}\n",
        "\n",
        "The overview should be punchy with a pun, reading like a news paper headline.\n",
        "Be creative.\n",
        "\n",
        "Only output the email overview, no other explanation or\n",
        "text can be provided.\"\"\",\n",
        "    input_variables=[\"email\"]\n",
        ")"
      ],
      "metadata": {
        "id": "Uh5B7IaCZC_s"
      },
      "execution_count": null,
      "outputs": []
    },
    {
      "cell_type": "code",
      "source": [
        "user_prompt.format(email=\"TEST STRING\")"
      ],
      "metadata": {
        "colab": {
          "base_uri": "https://localhost:8080/"
        },
        "id": "2H4ADspratpq",
        "outputId": "015609d5-645b-4723-c82f-17c11531384c"
      },
      "execution_count": null,
      "outputs": [
        {
          "output_type": "execute_result",
          "data": {
            "text/plain": [
              "HumanMessage(content='You are tasked with creating an overview of the email.\\nThe email is here for you to examine TEST STRING\\n\\nThe overview should be punchy with a pun, reading like a news paper headline.\\nBe creative.\\n\\nOnly output the email overview, no other explanation or\\ntext can be provided.', additional_kwargs={}, response_metadata={})"
            ]
          },
          "metadata": {},
          "execution_count": 31
        }
      ]
    },
    {
      "cell_type": "code",
      "source": [
        "from langchain.prompts import ChatPromptTemplate\n",
        "\n",
        "first_prompt = ChatPromptTemplate.from_messages([system_prompt, user_prompt])"
      ],
      "metadata": {
        "id": "MAi8sMJJeOj1"
      },
      "execution_count": null,
      "outputs": []
    },
    {
      "cell_type": "code",
      "source": [
        "print(first_prompt.format(email=\"TEST STRING\"))"
      ],
      "metadata": {
        "colab": {
          "base_uri": "https://localhost:8080/"
        },
        "id": "LA0Ir3lQfJ-b",
        "outputId": "6255b0fd-92c1-4b26-aa45-ac2b7f25843e"
      },
      "execution_count": null,
      "outputs": [
        {
          "output_type": "stream",
          "name": "stdout",
          "text": [
            "System: You are an AI assistant that helps generate email overviews.\n",
            "Human: You are tasked with creating an overview of the email.\n",
            "The email is here for you to examine TEST STRING\n",
            "\n",
            "The overview should be punchy with a pun, reading like a news paper headline.\n",
            "Be creative.\n",
            "\n",
            "Only output the email overview, no other explanation or\n",
            "text can be provided.\n"
          ]
        }
      ]
    },
    {
      "cell_type": "code",
      "source": [
        "chain_one = (\n",
        "    {\"email\": lambda x: x[\"email\"]}\n",
        "    | first_prompt\n",
        "    | creative_llm\n",
        "    | {\"email_overview\": lambda x: x.content}\n",
        ")"
      ],
      "metadata": {
        "id": "pE6rXwFnjmJ9"
      },
      "execution_count": null,
      "outputs": []
    },
    {
      "cell_type": "code",
      "source": [
        "email_overview_msg = chain_one.invoke({\"email\": email})\n",
        "email_overview_msg"
      ],
      "metadata": {
        "colab": {
          "base_uri": "https://localhost:8080/"
        },
        "id": "S4KMH53ejpCK",
        "outputId": "97221608-97a4-4af3-e54a-08e1bcf2f9da"
      },
      "execution_count": null,
      "outputs": [
        {
          "output_type": "execute_result",
          "data": {
            "text/plain": [
              "{'email_overview': '\"Exports Take Center Stage: EFL Africa Nets $18M in 2 Months, But Faces Competitive Headwinds\"'}"
            ]
          },
          "metadata": {},
          "execution_count": 36
        }
      ]
    },
    {
      "cell_type": "code",
      "source": [
        "second_user_prompt = HumanMessagePromptTemplate.from_template(\n",
        "    \"\"\"You are tasked with creating a morning show raido news broadcast based on the email. The email is here for you to examine:\n",
        "\n",
        "---\n",
        "\n",
        "{email}\n",
        "\n",
        "---\n",
        "\n",
        "Here is the email overview '{email_overview}'.\n",
        "\n",
        "Output an episode script with 2 hosts. 1 page of content. Do not output\n",
        "anything other than the epsiode script.\"\"\",\n",
        "    input_variables=[\"email\", \"email_overview\"]\n",
        ")\n",
        "\n",
        "second_prompt = ChatPromptTemplate.from_messages([\n",
        "    system_prompt,\n",
        "    second_user_prompt\n",
        "])"
      ],
      "metadata": {
        "id": "poOWs8u-lAT7"
      },
      "execution_count": null,
      "outputs": []
    },
    {
      "cell_type": "code",
      "source": [
        "chain_two = (\n",
        "    {\n",
        "        \"email\": lambda x: x[\"email\"],\n",
        "        \"email_overview\": lambda x: x[\"email_overview\"]\n",
        "    }\n",
        "    | second_prompt\n",
        "    | news_llm\n",
        "    | {\"script\": lambda x: x.content}\n",
        ")"
      ],
      "metadata": {
        "id": "qdaj4VGQmEqg"
      },
      "execution_count": null,
      "outputs": []
    },
    {
      "cell_type": "code",
      "source": [
        "email_script_msg = chain_two.invoke({\n",
        "    \"email\": email,\n",
        "    \"email_overview\": email_overview_msg[\"email_overview\"]\n",
        "})\n",
        "email_script_msg"
      ],
      "metadata": {
        "colab": {
          "base_uri": "https://localhost:8080/"
        },
        "id": "PNmGB_N5m6DU",
        "outputId": "faa5e3f8-9128-438d-e3bd-a0eb41285c67"
      },
      "execution_count": null,
      "outputs": [
        {
          "output_type": "execute_result",
          "data": {
            "text/plain": [
              "{'script': \"Morning Show Radio News Broadcast\\n\\nHost 1: Good morning listeners, and welcome to the Morning Show. We have some big news to share about the export performance of EFL Africa.\\n\\nHost 2: That's right, EFL Africa, a leading logistics and terminal operator in Nigeria, has seen a strong start to the year in their export business, but they also face some competitive challenges ahead.\\n\\nHost 1: According to an email from the company's leadership, in the first two months of 2025, EFL Africa has processed over 20,000 tons of exports, representing an estimated value of $18 million.\\n\\nHost 2: That's an impressive figure, but the email also highlights a concerning trend. The company's export container volume, measured in TEUs, is down 17.7% compared to the same period last year.\\n\\nHost 1: The email dives into the strategic context behind EFL Africa's focus on exports. It notes that while oil exports still dominate Nigeria's trade, non-oil exports are steadily gaining importance, presenting a significant growth opportunity for the company.\\n\\nHost 2: However, the email also warns of increased competition in the market, with global port operator DP World reportedly in discussions with the Nigerian government about potential investments in port infrastructure and industrial parks.\\n\\nHost 1: To address these challenges, EFL Africa plans to double down on its specialized services, such as the last-mile processing of diverse ores, seeds, and nuts, and scale them across its two terminal locations. The company also aims to enhance its data accuracy and technology to better serve its export partners.\\n\\nHost 2: The email concludes by emphasizing the importance of exports to EFL Africa's growth strategy and the need to urgently address the decline in export container volumes. The company's leadership is calling on the team to harness the current momentum and reclaim their pace or even surpass it.\\n\\nHost 1: This is certainly a story to watch as EFL Africa navigates the competitive landscape and works to capitalize on Nigeria's growing non-oil export potential. We'll be sure to follow up on any developments in the coming weeks.\\n\\nHost 2: Absolutely, and stay tuned for more updates from the world of business and trade. This has been the Morning Show, have a great day!\"}"
            ]
          },
          "metadata": {},
          "execution_count": 39
        }
      ]
    },
    {
      "cell_type": "code",
      "source": [
        "third_user_prompt = HumanMessagePromptTemplate.from_template(\n",
        "    \"\"\"You are tasked with respoding to the email as a randow persona that accidentally stumbles across the email and has some unknown reason to be interested.\n",
        "     The email is here for you to examine:\n",
        "\n",
        "---\n",
        "\n",
        "{email}\n",
        "\n",
        "---\n",
        "\n",
        "generate a random persona with random features and quirks. identify the scenario the find the email. respond to the email.\"\"\",\n",
        "    input_variables=[\"email\"]\n",
        ")\n",
        "\n",
        "# prompt template 3: creating a new paragraph for the article\n",
        "third_prompt = ChatPromptTemplate.from_messages([\n",
        "    system_prompt,\n",
        "    third_user_prompt\n",
        "])"
      ],
      "metadata": {
        "id": "mIXyVLJ9oMwC"
      },
      "execution_count": null,
      "outputs": []
    },
    {
      "cell_type": "code",
      "source": [],
      "metadata": {
        "id": "typvAS6Opeso"
      },
      "execution_count": null,
      "outputs": []
    },
    {
      "cell_type": "code",
      "source": [
        "from pydantic import BaseModel, Field\n",
        "\n",
        "class EmailResponse(BaseModel):\n",
        "    persona_name: str = Field(description=\"The name of the random persona responding to the email\")\n",
        "    persona_description: str = Field(description=\"Brief description of the random persona, including quirks and personality traits\")\n",
        "    discovery_scenario: str = Field(description=\"How this persona stumbled across the email accidentally\")\n",
        "    interest_reason: str = Field(description=\"The random reason why this persona is interested in the email content\")\n",
        "    response: str = Field(description=\"The full response to the email from this persona's perspective\")\n",
        "\n",
        "# Create structured output LLM\n",
        "structured_llm = creative_llm.with_structured_output(EmailResponse)\n",
        "\n",
        "# Now you can create the chain using this structured output\n",
        "chain_three = (\n",
        "    {\"email\": lambda x: x[\"email\"]}\n",
        "    | third_prompt\n",
        "    | structured_llm\n",
        "    | {\n",
        "        \"persona_name\": lambda x: x.persona_name,\n",
        "        \"persona_description\": lambda x: x.persona_description,\n",
        "        \"discovery_scenario\": lambda x: x.discovery_scenario,\n",
        "        \"interest_reason\": lambda x: x.interest_reason,\n",
        "        \"response\": lambda x: x.response\n",
        "    }\n",
        ")"
      ],
      "metadata": {
        "id": "BmGcEXd3pThw"
      },
      "execution_count": null,
      "outputs": []
    },
    {
      "cell_type": "code",
      "source": [
        "out = chain_three.invoke({\"email\": email})\n",
        "out"
      ],
      "metadata": {
        "colab": {
          "base_uri": "https://localhost:8080/"
        },
        "id": "ryol6hcTqfU9",
        "outputId": "9ddc2a56-c845-4c59-962c-3421174ad8f2"
      },
      "execution_count": null,
      "outputs": [
        {
          "output_type": "execute_result",
          "data": {
            "text/plain": [
              "{'persona_name': 'Amina Adebayo',\n",
              " 'persona_description': 'Amina is a quirky and eccentric data analyst who has a deep fascination with international trade and commodity markets. She loves digging into spreadsheets and finding hidden patterns and insights. Despite her technical expertise, she has a whimsical side and often gets distracted by random trivia.',\n",
              " 'discovery_scenario': \"Amina was innocently browsing through her company's internal email server when she stumbled across this export update email. Her curiosity was immediately piqued, and she couldn't resist the temptation to dive into the details.\",\n",
              " 'interest_reason': 'As a self-proclaimed \"data detective\", Amina is intrigued by the wealth of information contained in the email, from the detailed commodity breakdowns to the performance trends. She sees this as an opportunity to flex her analytical muscles and uncover hidden insights that could benefit her company.',\n",
              " 'response': \"Dear Team,\\n\\nWhat a fascinating email! As a curious data analyst with a passion for international trade, I couldn't help but stumble across this export update and dive right in. \\n\\nFirst, let me start by congratulating you all on the impressive export performance so far this year - $18 million in just two months is truly remarkable! The detailed commodity breakdowns are a treasure trove of insights. A few things that caught my eye:\\n\\n- Sesame seeds alone accounting for $13 million in exports? That's incredible! I'd love to know more about the global demand and pricing trends for this commodity. Is this a strategic focus area for your organization?\\n\\n- The pricing differences between the various ores and minerals are fascinating. Titanium at $6,456 per ton compared to Silica Ore at just $57 per ton - that's a massive gap! I wonder if there are opportunities to optimize the product mix and prioritize the high-value commodities.\\n\\n- The 17.7% drop in export TEUs year-over-year is certainly concerning. I'd be curious to dig deeper into the underlying drivers and see if there are any seasonal or market-based factors at play. Understanding the root causes will be key to reversing this trend.\\n\\nAs for the competitive landscape, the news about DP World's strategic moves is certainly intriguing. I can see how increased competition could put pressure on pricing and volumes, but I also agree that this highlights the enormous potential in Nigeria's non-oil export market. With your established brand and specialized expertise, I believe EFL Africa is uniquely positioned to capitalize on this opportunity.\\n\\nIn terms of recommendations, I would suggest:\\n\\n1. Invest heavily in data capture and analytics to gain deeper, real-time insights into your export operations. Accurate HS codes, commodity pricing, and yield data will be crucial.\\n\\n2. Explore value-added services and tailored solutions for your high-value export partners. Packaging, labeling, and other specialized offerings could help differentiate your services and drive customer loyalty.\\n\\n3. Closely monitor the competitive landscape and be prepared to adapt your strategies as the market evolves. Staying agile and responsive will be key.\\n\\nOverall, I'm incredibly impressed by the work you all are doing and the ambitious goals laid out in your 2025-2027 strategy. Please let me know if there's any way I can lend my data analysis expertise to support your efforts - I'd be honored to contribute to this exciting export journey!\\n\\nBest regards,\\nAmina Adebayo\\nData Analyst\"}"
            ]
          },
          "metadata": {},
          "execution_count": 45
        }
      ]
    },
    {
      "cell_type": "code",
      "source": [
        "from langchain_community.utilities.dalle_image_generator import DallEAPIWrapper\n",
        "from langchain_core.prompts import PromptTemplate\n",
        "\n",
        "image_prompt = PromptTemplate(\n",
        "    input_variables=[\"article\"],\n",
        "    template=(\n",
        "        \"Generate a prompt with less then 500 characters to generate an image \"\n",
        "        \"based on the following article: {article}\"\n",
        "    )\n",
        ")"
      ],
      "metadata": {
        "id": "UxBYaMRMr16p"
      },
      "execution_count": null,
      "outputs": []
    }
  ]
}